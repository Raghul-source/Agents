{
 "cells": [
  {
   "cell_type": "code",
   "execution_count": 3,
   "id": "c5d99836-40f1-468b-a735-2449081c5366",
   "metadata": {},
   "outputs": [],
   "source": [
    "import os\n",
    "from dotenv import load_dotenv\n",
    "\n",
    "load_dotenv()  # take environment variables from .env.\n",
    "api_key = os.getenv(\"GOOGLE_API_KEY\")\n"
   ]
  },
  {
   "cell_type": "code",
   "execution_count": 2,
   "id": "4049b468-d185-4a28-b47e-04e4fed77df5",
   "metadata": {},
   "outputs": [
    {
     "name": "stdout",
     "output_type": "stream",
     "text": [
      "[{\"recipe_name\":\"Classic Chocolate Chip Cookies\",\"ingredients\":[\"1 cup (2 sticks) unsalted butter, softened\",\"3/4 cup granulated sugar\",\"3/4 cup packed light brown sugar\",\"2 large eggs\",\"1 teaspoon vanilla extract\",\"2 1/4 cups all-purpose flour\",\"1 teaspoon baking soda\",\"1/2 teaspoon salt\",\"1 cup chocolate chips\"],\"total_cost\":10},{\"recipe_name\":\"Simple Sugar Cookies\",\"ingredients\":[\"1 cup (2 sticks) unsalted butter, softened\",\"1 1/2 cups granulated sugar\",\"1 large egg\",\"1 teaspoon vanilla extract\",\"2 1/2 cups all-purpose flour\",\"1 teaspoon baking powder\",\"1/2 teaspoon salt\"],\"total_cost\":8},{\"recipe_name\":\"Chewy Oatmeal Raisin Cookies\",\"ingredients\":[\"1 cup (2 sticks) unsalted butter, softened\",\"1 cup granulated sugar\",\"1 cup packed light brown sugar\",\"2 large eggs\",\"1 teaspoon vanilla extract\",\"1 1/2 cups all-purpose flour\",\"1 teaspoon baking soda\",\"1 teaspoon ground cinnamon\",\"1/2 teaspoon salt\",\"3 cups old-fashioned rolled oats\",\"1 cup raisins\"],\"total_cost\":12}]\n"
     ]
    }
   ],
   "source": [
    "from google import genai\n",
    "from pydantic import BaseModel\n",
    "\n",
    "\n",
    "# Using a Pydantic model\n",
    "class Recipe(BaseModel):\n",
    "    recipe_name: str\n",
    "    ingredients: list[str]\n",
    "    total_cost:int\n",
    "\n",
    "client = genai.Client()\n",
    "response = client.models.generate_content(\n",
    "    model=\"gemini-2.5-flash\",\n",
    "    contents=\"List a few popular cookie recipes, and include the amounts of ingredients.\",\n",
    "    config={\n",
    "        \"response_mime_type\": \"application/json\",\n",
    "        \n",
    "        #list of dicts (each dict is one Recipe).\n",
    "        \"response_schema\": list[Recipe],\n",
    "        #\"propertyOrdering\": [\"recipeName\", \"ingredients\"]\n",
    "    },\n",
    "    \n",
    ")\n",
    "# Use the response as a JSON string.\n",
    "print(response.text)\n",
    "\n",
    "# Use instantiated objects.\n",
    "my_recipes: list[Recipe] = response.parsed"
   ]
  },
  {
   "cell_type": "code",
   "execution_count": 6,
   "id": "e5e7a2f1-5bb3-4dd4-a80c-fe00a3a529e2",
   "metadata": {},
   "outputs": [
    {
     "name": "stdout",
     "output_type": "stream",
     "text": [
      "{\"Inspection\":true,\"Doc_type\":\"EIRC\",\"Address\":\"OLA FIRE STATIOU GREENICU SE10 OSE\"}\n"
     ]
    }
   ],
   "source": [
    "# manually construct a schema using google.genai.types.Schema, you can explicitly set fields like propertyOrdering, enum, etc \n",
    "from google import genai\n",
    "from google.genai import types\n",
    "import pathlib\n",
    "\n",
    "# Using manual types.Schema\n",
    "person_schema = types.Schema(\n",
    "    type=\"object\",\n",
    "    properties={\n",
    "        \"Doc_type\": { \"type\": \"string\",\"enum\": [\"Gas_safety\", \"EPC\", \"EIRC\"]},\n",
    "        \"Address\": { \"type\": \"string\"},\n",
    "        \"Inspection\": { \"type\": \"boolean\" }\n",
    "    },\n",
    "    # mandatory should be displayed\n",
    "    required=[\"Doc_type\", \"Address\",\"Inspection\"],   \n",
    "    # if you  manually construct schema only, we can set property ordering, pydantic can't support this.\n",
    "    propertyOrdering=[\"Inspection\",\"Doc_type\", \"Address\"]\n",
    ")\n",
    "client = genai.Client()\n",
    "\n",
    "filepath = pathlib.Path(r\"C:\\Users\\Raghul mani M\\Downloads\\compliance_docs\\compliance_docs\\upload_nic_flat_34_old_fire_station_62012f9456696.pdf\")\n",
    "\n",
    "prompt = \"extract the document type, address,inspection\"\n",
    "response = client.models.generate_content(\n",
    "  model=\"gemini-2.5-flash\",\n",
    "  contents=[\n",
    "      types.Part.from_bytes(\n",
    "        data=filepath.read_bytes(),\n",
    "        # input as pdf\n",
    "        mime_type='application/pdf',\n",
    "      ),\n",
    "      prompt],\n",
    "    \n",
    "    config={\n",
    "        \"response_schema\": person_schema,\n",
    "        \"response_mime_type\": \"application/json\"\n",
    "    }\n",
    "    \n",
    "    )\n",
    "print(response.text)"
   ]
  },
  {
   "cell_type": "code",
   "execution_count": 16,
   "id": "b9cf7f7a-4483-473c-a424-60a1039636bd",
   "metadata": {},
   "outputs": [
    {
     "name": "stdout",
     "output_type": "stream",
     "text": [
      "*   **Document Type:** ELECTRICAL INSTALLATION CONDITION REPORT\n",
      "*   **Address (of the installation):**\n",
      "    OLA FIRE STATIOU\n",
      "    GREENICH\n",
      "    Postcode: SE10 OSE\n",
      "*   **Inspection Status:** Satisfactory\n"
     ]
    }
   ],
   "source": [
    "# Using list[str] (simple type) response schema structure \n",
    "from google import genai\n",
    "from google.genai import types\n",
    "import pathlib\n",
    "\n",
    "\n",
    "client = genai.Client()\n",
    "\n",
    "filepath = pathlib.Path(r\"C:\\Users\\Raghul mani M\\Downloads\\compliance_docs\\compliance_docs\\upload_nic_flat_34_old_fire_station_62012f9456696.pdf\")\n",
    "\n",
    "#just returns a list of strings. No extra structure.\n",
    "config = {\n",
    "    #response_mime_type = format (container)\n",
    "     \"response_mime_type\": \"text/plain\", \n",
    "    # (or)\"response_mime_type\": \"application/json\",\n",
    "    #response_schema = structure (blueprint of data inside the container)\n",
    "    #return only one object (one dict or one str one )\n",
    "    \"response_schema\": str \n",
    "    # (or) \"response_schema\": dict (Without Pydantic (or a custom types.Schema), you can’t just say dict.Without Pydantic (or a custom types.Schema), we can’t just say dict.)\n",
    "}\n",
    "\n",
    "response = client.models.generate_content(\n",
    "    model=\"gemini-2.5-flash\",\n",
    "    contents=[types.Part.from_bytes(\n",
    "        data=filepath.read_bytes(),\n",
    "        mime_type='application/pdf',\n",
    "      ),\"extract the document type, address,inspection status\"],\n",
    "    config=config\n",
    ")\n",
    "print(response.text)\n"
   ]
  }
 ],
 "metadata": {
  "kernelspec": {
   "display_name": "Python 3 (ipykernel)",
   "language": "python",
   "name": "python3"
  },
  "language_info": {
   "codemirror_mode": {
    "name": "ipython",
    "version": 3
   },
   "file_extension": ".py",
   "mimetype": "text/x-python",
   "name": "python",
   "nbconvert_exporter": "python",
   "pygments_lexer": "ipython3",
   "version": "3.11.7"
  }
 },
 "nbformat": 4,
 "nbformat_minor": 5
}

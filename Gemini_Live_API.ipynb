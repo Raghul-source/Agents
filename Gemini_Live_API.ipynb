{
 "cells": [
  {
   "cell_type": "code",
   "execution_count": 5,
   "id": "74674b64-dd49-4bb8-b5d5-4194c37e347c",
   "metadata": {},
   "outputs": [],
   "source": [
    "import os\n",
    "from dotenv import load_dotenv\n",
    "\n",
    "load_dotenv()  # take environment variables from .env.\n",
    "api_key = os.getenv(\"GOOGLE_API_KEY\")\n"
   ]
  },
  {
   "cell_type": "code",
   "execution_count": 11,
   "id": "439a16b7-9eb5-423f-aea0-23c290e3f0d7",
   "metadata": {},
   "outputs": [
    {
     "name": "stderr",
     "output_type": "stream",
     "text": [
      "Warning: there are non-text parts in the response: ['executable_code'], returning concatenated text result from text parts, check out the non text parts for full response from model.\n",
      "Warning: there are non-text parts in the response: ['code_execution_result'], returning concatenated text result from text parts, check out the non text parts for full response from model.\n"
     ]
    },
    {
     "name": "stdout",
     "output_type": "stream",
     "text": [
      "id='function-call-11038371609359629807' args={} name='open_shop'\n",
      "The shop is now open."
     ]
    }
   ],
   "source": [
    "import asyncio \n",
    "from google import genai\n",
    "from google.genai import types\n",
    "import nest_asyncio\n",
    "nest_asyncio.apply()\n",
    "\n",
    "client = genai.Client()\n",
    "model = \"gemini-live-2.5-flash-preview\"\n",
    "\n",
    "\n",
    "def open_shop():\n",
    "    return \"opened\"\n",
    "\n",
    "def close_shop():\n",
    "    return \"closed\"\n",
    "\n",
    "\n",
    "\n",
    "\n",
    "shop_open = types.FunctionDeclaration(name=\"open_shop\",behavior=\"NON_BLOCKING\")\n",
    "shop_close = types.FunctionDeclaration(name=\"close_shop\")\n",
    "\n",
    "\n",
    "tools = [types.Tool(function_declarations=[shop_open, shop_close])]\n",
    "\n",
    "\n",
    "#tools = [{\"function_declarations\":[shop_open,shop_close]}]\n",
    "config = types.LiveConnectConfig(\n",
    "     response_modalities = [\"TEXT\"],\n",
    "     tools=tools\n",
    ")\n",
    "\n",
    "\n",
    "async def main():\n",
    "    async with client.aio.live.connect(model=model, config = config) as session:\n",
    "        prompt = \"open the shop and tell me what happened\"\n",
    "        await session.send_client_content(turns ={\"parts\":[{\"text\":prompt}]})\n",
    "\n",
    "        async for chunk in session.receive():\n",
    "            #print(chunk)\n",
    "            if chunk.server_content:\n",
    "                if chunk.text is not None:\n",
    "                    print(chunk.text,end=\"\")\n",
    "            if chunk.tool_call:\n",
    "                function_responses = []\n",
    "                for fc in chunk.tool_call.function_calls:\n",
    "                    #print(fc)\n",
    "                    result = open_shop() if fc.name == \"open_shop\" else close_shop()\n",
    "                    function_response = types.FunctionResponse(\n",
    "                        id = fc.id,\n",
    "                        name = fc.name,\n",
    "                        response = {\"result\":result,\"scheduling\":\"WHEN_IDLE\"}\n",
    "                    )\n",
    "                    function_responses.append(function_response)\n",
    "                await session.send_tool_response(function_responses=function_responses)\n",
    "                #await session.send_tool_response(function_responses)\n",
    "\n",
    "await main()"
   ]
  }
 ],
 "metadata": {
  "kernelspec": {
   "display_name": "Python 3 (ipykernel)",
   "language": "python",
   "name": "python3"
  },
  "language_info": {
   "codemirror_mode": {
    "name": "ipython",
    "version": 3
   },
   "file_extension": ".py",
   "mimetype": "text/x-python",
   "name": "python",
   "nbconvert_exporter": "python",
   "pygments_lexer": "ipython3",
   "version": "3.11.7"
  }
 },
 "nbformat": 4,
 "nbformat_minor": 5
}

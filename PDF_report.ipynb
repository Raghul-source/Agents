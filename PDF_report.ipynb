{
 "cells": [
  {
   "cell_type": "code",
   "execution_count": 1,
   "id": "d5b0d386-1ff2-418b-aaac-eb20e577276b",
   "metadata": {},
   "outputs": [],
   "source": [
    "import os\n",
    "from dotenv import load_dotenv\n",
    "\n",
    "load_dotenv()  # take environment variables from .env.\n",
    "api_key = os.getenv(\"GOOGLE_API_KEY\")\n"
   ]
  },
  {
   "cell_type": "code",
   "execution_count": 3,
   "id": "911f4abc-beed-4e08-9f55-9ba21ab29f99",
   "metadata": {},
   "outputs": [
    {
     "name": "stdout",
     "output_type": "stream",
     "text": [
      "Saved C:\\workspace\\artelligence\\playground\\agents\\output_images\\upload_nic_2018_5c94b4f64e25f\\page_1.png\n",
      "Saved C:\\workspace\\artelligence\\playground\\agents\\output_images\\upload_nic_2018_5c94b4f64e25f\\page_2.png\n",
      "Saved C:\\workspace\\artelligence\\playground\\agents\\output_images\\upload_nic_2018_5c94b4f64e25f\\page_3.png\n",
      "Saved C:\\workspace\\artelligence\\playground\\agents\\output_images\\upload_nic_2018_5c94b4f64e25f\\page_4.png\n",
      "Saved C:\\workspace\\artelligence\\playground\\agents\\output_images\\upload_nic_2018_5c94b4f64e25f\\page_5.png\n",
      "Saved C:\\workspace\\artelligence\\playground\\agents\\output_images\\upload_nic_2018_5c94b4f64e25f\\page_6.png\n"
     ]
    }
   ],
   "source": [
    "import fitz  # PyMuPDF\n",
    "import os\n",
    "\n",
    "# PDF path (can be anywhere)\n",
    "file_path = r\"C:\\Users\\Raghul mani M\\Downloads\\compliance_docs\\compliance_docs\\upload_nic_2018_5c94b4f64e25f.pdf\"\n",
    "pdf = fitz.open(file_path)\n",
    "\n",
    "# Current working directory instead of __file__\n",
    "project_root = os.getcwd()\n",
    "output_root = os.path.join(project_root, \"output_images\")\n",
    "\n",
    "# Extract PDF name (without extension) for subfolder\n",
    "pdf_name = os.path.splitext(os.path.basename(file_path))[0]\n",
    "output_dir = os.path.join(output_root, pdf_name)\n",
    "os.makedirs(output_dir, exist_ok=True)\n",
    "\n",
    "# Convert each page to image\n",
    "for page_number in range(len(pdf)):\n",
    "    page = pdf[page_number]\n",
    "    pix = page.get_pixmap(dpi=300)\n",
    "    output_path = os.path.join(output_dir, f\"page_{page_number+1}.png\")\n",
    "    pix.save(output_path)\n",
    "    print(f\"Saved {output_path}\")\n"
   ]
  },
  {
   "cell_type": "code",
   "execution_count": 6,
   "id": "d445cdb6-f1e4-4853-be7f-b9b8bb85ab1b",
   "metadata": {},
   "outputs": [
    {
     "name": "stdout",
     "output_type": "stream",
     "text": [
      "✅ Uploaded page_1.png, URI: https://generativelanguage.googleapis.com/v1beta/files/m14ek7vxsz4y\n",
      "✅ Uploaded page_2.png, URI: https://generativelanguage.googleapis.com/v1beta/files/ek7klgsf3dgv\n",
      "✅ Uploaded page_3.png, URI: https://generativelanguage.googleapis.com/v1beta/files/fis5jzol7gwf\n",
      "✅ Uploaded page_4.png, URI: https://generativelanguage.googleapis.com/v1beta/files/0yueu42a7he1\n",
      "✅ Uploaded page_5.png, URI: https://generativelanguage.googleapis.com/v1beta/files/5ofwtbd9290y\n",
      "✅ Uploaded page_6.png, URI: https://generativelanguage.googleapis.com/v1beta/files/m168l62lyamt\n",
      "\n",
      "Total uploaded: 6 files\n"
     ]
    }
   ],
   "source": [
    "import os\n",
    "from google import genai\n",
    "\n",
    "client = genai.Client()\n",
    "\n",
    "# Folder where images are stored (example: \"output_images/upload_nic_2018_5c94b4f64e25f\")\n",
    "folder_path = r\"output_images\\upload_nic_2018_5c94b4f64e25f\"\n",
    "\n",
    "uploaded_files = []\n",
    "\n",
    "# Loop through all image files in folder\n",
    "for filename in sorted(os.listdir(folder_path)):\n",
    "    if filename.lower().endswith((\".png\", \".jpg\", \".jpeg\")):  # only images\n",
    "        file_path = os.path.join(folder_path, filename)\n",
    "        file = client.files.upload(file=file_path)\n",
    "        uploaded_files.append(file)\n",
    "        print(f\"✅ Uploaded {filename}, URI: {file.uri}\")\n",
    "\n",
    "print(f\"\\nTotal uploaded: {len(uploaded_files)} files\")\n"
   ]
  },
  {
   "cell_type": "code",
   "execution_count": 7,
   "id": "fe05d286-7ac6-4872-a4bf-7a595b88796f",
   "metadata": {},
   "outputs": [
    {
     "name": "stdout",
     "output_type": "stream",
     "text": [
      "[File(\n",
      "  create_time=datetime.datetime(2025, 10, 2, 16, 28, 54, 472154, tzinfo=TzInfo(UTC)),\n",
      "  expiration_time=datetime.datetime(2025, 10, 4, 16, 28, 53, 948965, tzinfo=TzInfo(UTC)),\n",
      "  mime_type='image/png',\n",
      "  name='files/m14ek7vxsz4y',\n",
      "  sha256_hash='NzZmMzVhZWNhMDhmZGJjMTM4OGFhOTY5OTA0OTMyY2Y1NWEwNDQwMTI4NzAwNTFlMzI5MjM5Y2U5MDIwM2RhMA==',\n",
      "  size_bytes=6952100,\n",
      "  source=<FileSource.UPLOADED: 'UPLOADED'>,\n",
      "  state=<FileState.ACTIVE: 'ACTIVE'>,\n",
      "  update_time=datetime.datetime(2025, 10, 2, 16, 28, 54, 472154, tzinfo=TzInfo(UTC)),\n",
      "  uri='https://generativelanguage.googleapis.com/v1beta/files/m14ek7vxsz4y'\n",
      "), File(\n",
      "  create_time=datetime.datetime(2025, 10, 2, 16, 29, 0, 935388, tzinfo=TzInfo(UTC)),\n",
      "  expiration_time=datetime.datetime(2025, 10, 4, 16, 29, 0, 301560, tzinfo=TzInfo(UTC)),\n",
      "  mime_type='image/png',\n",
      "  name='files/ek7klgsf3dgv',\n",
      "  sha256_hash='MDMzZTM3N2Y0MWEyODI0Yjc1NTQ1NzFjYTg5NzdjMDQyYzNhMTQ2ZTU4MGVmMzNmYWIyZGJmNzM2NzNlZDQyMg==',\n",
      "  size_bytes=8487540,\n",
      "  source=<FileSource.UPLOADED: 'UPLOADED'>,\n",
      "  state=<FileState.ACTIVE: 'ACTIVE'>,\n",
      "  update_time=datetime.datetime(2025, 10, 2, 16, 29, 0, 935388, tzinfo=TzInfo(UTC)),\n",
      "  uri='https://generativelanguage.googleapis.com/v1beta/files/ek7klgsf3dgv'\n",
      "), File(\n",
      "  create_time=datetime.datetime(2025, 10, 2, 16, 29, 7, 611324, tzinfo=TzInfo(UTC)),\n",
      "  expiration_time=datetime.datetime(2025, 10, 4, 16, 29, 6, 976328, tzinfo=TzInfo(UTC)),\n",
      "  mime_type='image/png',\n",
      "  name='files/fis5jzol7gwf',\n",
      "  sha256_hash='NTBhNDA3YWE5NDc4MGIyOTNhZGJkOTM4ZWY3MDliMGY3NmRlYjliNGM5YjhlYWY2MDFiNjhlNWMxMTNlYzIwNA==',\n",
      "  size_bytes=8534889,\n",
      "  source=<FileSource.UPLOADED: 'UPLOADED'>,\n",
      "  state=<FileState.ACTIVE: 'ACTIVE'>,\n",
      "  update_time=datetime.datetime(2025, 10, 2, 16, 29, 7, 611324, tzinfo=TzInfo(UTC)),\n",
      "  uri='https://generativelanguage.googleapis.com/v1beta/files/fis5jzol7gwf'\n",
      "), File(\n",
      "  create_time=datetime.datetime(2025, 10, 2, 16, 29, 14, 624717, tzinfo=TzInfo(UTC)),\n",
      "  expiration_time=datetime.datetime(2025, 10, 4, 16, 29, 14, 72111, tzinfo=TzInfo(UTC)),\n",
      "  mime_type='image/png',\n",
      "  name='files/0yueu42a7he1',\n",
      "  sha256_hash='YTI1MjkzOGUxM2IzMTNhYzBmODFmYWM3ZGY2ZDRlMTU5NDU4NGQ5NmMxM2FkODE3ZWRlN2E0Nzk5ZDAxY2M2NQ==',\n",
      "  size_bytes=9382308,\n",
      "  source=<FileSource.UPLOADED: 'UPLOADED'>,\n",
      "  state=<FileState.ACTIVE: 'ACTIVE'>,\n",
      "  update_time=datetime.datetime(2025, 10, 2, 16, 29, 14, 624717, tzinfo=TzInfo(UTC)),\n",
      "  uri='https://generativelanguage.googleapis.com/v1beta/files/0yueu42a7he1'\n",
      "), File(\n",
      "  create_time=datetime.datetime(2025, 10, 2, 16, 29, 23, 472438, tzinfo=TzInfo(UTC)),\n",
      "  expiration_time=datetime.datetime(2025, 10, 4, 16, 29, 22, 336435, tzinfo=TzInfo(UTC)),\n",
      "  mime_type='image/png',\n",
      "  name='files/5ofwtbd9290y',\n",
      "  sha256_hash='MTA0NDBkMmMxMDcxYTIwMzdiZTkwNTgyMjIyYzAwNjgxNDIwYWE0Y2Q0NTk5NjNhZGE5NzYyN2YyYTRkMjEwZQ==',\n",
      "  size_bytes=10028163,\n",
      "  source=<FileSource.UPLOADED: 'UPLOADED'>,\n",
      "  state=<FileState.ACTIVE: 'ACTIVE'>,\n",
      "  update_time=datetime.datetime(2025, 10, 2, 16, 29, 23, 472438, tzinfo=TzInfo(UTC)),\n",
      "  uri='https://generativelanguage.googleapis.com/v1beta/files/5ofwtbd9290y'\n",
      "), File(\n",
      "  create_time=datetime.datetime(2025, 10, 2, 16, 29, 30, 114379, tzinfo=TzInfo(UTC)),\n",
      "  expiration_time=datetime.datetime(2025, 10, 4, 16, 29, 29, 560089, tzinfo=TzInfo(UTC)),\n",
      "  mime_type='image/png',\n",
      "  name='files/m168l62lyamt',\n",
      "  sha256_hash='ZDgyMGEyZTNlNTcyZDZlYTQ4ZGE1ZDNkZDdhYzRiMmRjZWNjMzFlNzIwOGJjNDQ2ZjViN2I0M2E1NTA0OWYwZg==',\n",
      "  size_bytes=6695891,\n",
      "  source=<FileSource.UPLOADED: 'UPLOADED'>,\n",
      "  state=<FileState.ACTIVE: 'ACTIVE'>,\n",
      "  update_time=datetime.datetime(2025, 10, 2, 16, 29, 30, 114379, tzinfo=TzInfo(UTC)),\n",
      "  uri='https://generativelanguage.googleapis.com/v1beta/files/m168l62lyamt'\n",
      ")]\n"
     ]
    }
   ],
   "source": [
    "print(uploaded_files)"
   ]
  },
  {
   "cell_type": "code",
   "execution_count": 3,
   "id": "eaf86379-232e-45ee-999c-09a1de8e4b05",
   "metadata": {},
   "outputs": [
    {
     "name": "stdout",
     "output_type": "stream",
     "text": [
      "✅ Document Type: ```json\n",
      "{\n",
      "  \"document_type\": \"EIRC\",\n",
      "  \"address\": \"42 CHESTERFIELD COURT FLAT 1\",\n",
      "  \"inspection_status\": \"Failed\"\n",
      "}\n",
      "```\n"
     ]
    }
   ],
   "source": [
    "from google import genai\n",
    "\n",
    "client = genai.Client()\n",
    "\n",
    "# Directly pass file URIs to the request\n",
    "file_uris = [\n",
    "    \"https://generativelanguage.googleapis.com/v1beta/files/m14ek7vxsz4y\",\n",
    "    \"https://generativelanguage.googleapis.com/v1beta/files/ek7klgsf3dgv\",\n",
    "    \"https://generativelanguage.googleapis.com/v1beta/files/fis5jzol7gwf\",\n",
    "    \"https://generativelanguage.googleapis.com/v1beta/files/0yueu42a7he1\",\n",
    "    \"https://generativelanguage.googleapis.com/v1beta/files/5ofwtbd9290y\",\n",
    "    \"https://generativelanguage.googleapis.com/v1beta/files/m168l62lyamt\",\n",
    "]\n",
    "\n",
    "# Build contents: wrap URIs properly\n",
    "contents = [{\"file_data\": {\"file_uri\": uri}} for uri in file_uris]\n",
    "\n",
    "# Add your instruction at the end\n",
    "contents.append(\n",
    "    \"\"\"These 6 images are pages of the same inspection document. \n",
    "    Extract the following information:\n",
    "    1. Document type (Gas_safety, EPC, or EIRC)\n",
    "    2. Address of the inspection\n",
    "    3. Inspection status (Passed or Failed)\n",
    "\n",
    "    Return the result strictly as JSON with keys: \n",
    "    { \"document_type\": \"\", \"address\": \"\", \"inspection_status\": \"\" }\n",
    "    \"\"\"\n",
    ")\n",
    "\n",
    "response = client.models.generate_content(\n",
    "    model=\"gemini-2.5-flash\",\n",
    "    contents=contents,\n",
    ")\n",
    "\n",
    "print(\"✅ Document Type:\", response.text)\n"
   ]
  },
  {
   "cell_type": "code",
   "execution_count": 15,
   "id": "1523d467-7aba-461f-ae09-ad9749df5591",
   "metadata": {},
   "outputs": [
    {
     "name": "stdout",
     "output_type": "stream",
     "text": [
      "This is an \"Electrical Installation Condition Report\" for a landlord safety inspection, dated August 28, 2018.\n",
      "\n",
      "**Key details from the report include:**\n",
      "\n",
      "*   **Report No.:** DPN7/0393125\n",
      "*   **Contractor's Reference Number:** CRN/007\n",
      "*   **Client:** David Harouni, located at 13A West Hampstead Mews, NW6 3BB.\n",
      "*   **Installation Location (Occupier):** David Harouni, 42 Chesterfield Court Flat 1, NW11 8AU.\n",
      "*   **Type of Installation:** Ticked as \"Highway Installation\" (though the addresses are residential).\n",
      "*   **Purpose of the Report:** Landlord Safety Inspection.\n",
      "*   **Date of Inspection:** 28-8-2018.\n",
      "*   **Estimated Age of Installation:** 20 years, with evidence of 10-year-old alterations.\n",
      "*   **Records:** Unknown previous inspection date, no previous certificate/report number, no records available.\n",
      "*   **Extent of Inspection:** 60% of accessories removed for visual inspection, all final circuits tested.\n",
      "*   **Operational Limitations:** Insulation resistance between live conductors not tested due to loads, no access to some 13A socket outlets due to furniture obstructions, and low insulation resistance readings on flat sockets require further investigation.\n",
      "*   **Overall Assessment:** **Unsatisfactory and requires attention.**\n",
      "*   The report is Page 1 of 6.\n"
     ]
    }
   ],
   "source": [
    "  from google import genai\n",
    "  from google.genai import types\n",
    "\n",
    "  with open('page_1.png', 'rb') as f:\n",
    "      image_bytes = f.read()\n",
    "\n",
    "  client = genai.Client()\n",
    "  response = client.models.generate_content(\n",
    "    model='gemini-2.5-flash',\n",
    "    contents=[\n",
    "      types.Part.from_bytes(\n",
    "        data=image_bytes,\n",
    "        mime_type='image/png',\n",
    "      ),\n",
    "      'Caption this image.'\n",
    "    ]\n",
    "  )\n",
    "\n",
    "  print(response.text)"
   ]
  },
  {
   "cell_type": "code",
   "execution_count": null,
   "id": "33c109df-b5e3-44af-8fa5-48c4eae280f8",
   "metadata": {},
   "outputs": [],
   "source": []
  },
  {
   "cell_type": "code",
   "execution_count": null,
   "id": "27eadc4a-6319-4e7b-8957-5f8078fe2abb",
   "metadata": {},
   "outputs": [],
   "source": []
  },
  {
   "cell_type": "code",
   "execution_count": 14,
   "id": "66136f3f-715a-4036-9f5e-9f6c78848709",
   "metadata": {},
   "outputs": [
    {
     "name": "stdout",
     "output_type": "stream",
     "text": [
      "- **Document type:** EIRC\n",
      "- **Address of the inspection:** 42 CHESTERFIELD COURT FLAT 1, NNII SAU\n",
      "- **Inspection status:** Failed\n"
     ]
    }
   ],
   "source": [
    "# without structure output\n",
    "from google import genai\n",
    "from google.genai import types\n",
    "import pathlib\n",
    "\n",
    "client = genai.Client()\n",
    "\n",
    "# Retrieve and encode the PDF byte\n",
    "filepath = pathlib.Path(r\"C:\\Users\\Raghul mani M\\Downloads\\compliance_docs\\compliance_docs\\upload_nic_2018_5c94b4f64e25f.pdf\")\n",
    "\n",
    "response = client.models.generate_content(\n",
    "  model=\"gemini-2.5-flash\",\n",
    "  contents=[\n",
    "      types.Part.from_bytes(\n",
    "        data=filepath.read_bytes(),\n",
    "        mime_type='application/pdf',\n",
    "      ),\n",
    "      \"\"\" \n",
    "      Extract the following information: Document type (Gas_safety, EPC, or EIRC),Address of the inspection,Inspection status (Passed or Failed)\n",
    "    \"\"\"])\n",
    "print(response.text)"
   ]
  },
  {
   "cell_type": "code",
   "execution_count": 11,
   "id": "462ee28c-78e9-4aa9-afd2-f9f979c5989f",
   "metadata": {},
   "outputs": [
    {
     "name": "stdout",
     "output_type": "stream",
     "text": [
      "sdk_http_response=HttpResponse(\n",
      "  headers=<dict len=11>\n",
      ") candidates=[Candidate(\n",
      "  content=Content(\n",
      "    parts=[\n",
      "      Part(\n",
      "        text='{\"doc_type\": \"EIRC\", \"address\": \"42 CHESTERFIELD COURT FLAT 1 NNII SAU\", \"inspection\": false}'\n",
      "      ),\n",
      "    ],\n",
      "    role='model'\n",
      "  ),\n",
      "  finish_reason=<FinishReason.STOP: 'STOP'>,\n",
      "  index=0\n",
      ")] create_time=None model_version='gemini-2.5-flash' prompt_feedback=None response_id='u0vjaKm8OK2M1e8PruCxmAk' usage_metadata=GenerateContentResponseUsageMetadata(\n",
      "  cache_tokens_details=[\n",
      "    ModalityTokenCount(\n",
      "      modality=<MediaModality.TEXT: 'TEXT'>,\n",
      "      token_count=44\n",
      "    ),\n",
      "    ModalityTokenCount(\n",
      "      modality=<MediaModality.DOCUMENT: 'DOCUMENT'>,\n",
      "      token_count=1544\n",
      "    ),\n",
      "  ],\n",
      "  cached_content_token_count=1588,\n",
      "  candidates_token_count=32,\n",
      "  prompt_token_count=1593,\n",
      "  prompt_tokens_details=[\n",
      "    ModalityTokenCount(\n",
      "      modality=<MediaModality.TEXT: 'TEXT'>,\n",
      "      token_count=45\n",
      "    ),\n",
      "    ModalityTokenCount(\n",
      "      modality=<MediaModality.DOCUMENT: 'DOCUMENT'>,\n",
      "      token_count=1548\n",
      "    ),\n",
      "  ],\n",
      "  thoughts_token_count=543,\n",
      "  total_token_count=2168\n",
      ") automatic_function_calling_history=[] parsed=Recipe(doc_type='EIRC', address='42 CHESTERFIELD COURT FLAT 1 NNII SAU', inspection=False)\n"
     ]
    }
   ],
   "source": [
    "# with structured output\n",
    "from google import genai\n",
    "from google.genai import types\n",
    "import pathlib\n",
    "from pydantic import BaseModel\n",
    "\n",
    "class Recipe(BaseModel):\n",
    "    doc_type: str\n",
    "    address: str\n",
    "    inspection:bool\n",
    "\n",
    "client = genai.Client()\n",
    "\n",
    "filepath = pathlib.Path(r\"C:\\Users\\Raghul mani M\\Downloads\\compliance_docs\\compliance_docs\\upload_nic_2018_5c94b4f64e25f.pdf\")\n",
    "\n",
    "response = client.models.generate_content(\n",
    "  model=\"gemini-2.5-flash\",\n",
    "  contents=[\n",
    "      types.Part.from_bytes(\n",
    "        data=filepath.read_bytes(),\n",
    "        mime_type='application/pdf',\n",
    "      ),\n",
    "      \"\"\" \n",
    "      Extract the following information:\n",
    "    1. Document type (Gas_safety, EPC, or EIRC)\n",
    "    2. Address of the inspection\n",
    "    3. Inspection status (Passed or Failed)\"\"\"],\n",
    "    config={\n",
    "        \"response_mime_type\": \"application/json\",\n",
    "        \"response_schema\": Recipe,\n",
    "    }\n",
    ")\n",
    "\n",
    "print(response)\n",
    "structured_result: Recipe = response.parsed\n"
   ]
  },
  {
   "cell_type": "code",
   "execution_count": 12,
   "id": "958217bd-ffdb-41f1-b5f8-98d28c20afa9",
   "metadata": {},
   "outputs": [
    {
     "data": {
      "text/plain": [
       "'EIRC'"
      ]
     },
     "execution_count": 12,
     "metadata": {},
     "output_type": "execute_result"
    }
   ],
   "source": [
    "structured_result.doc_type"
   ]
  },
  {
   "cell_type": "code",
   "execution_count": 13,
   "id": "8f4ce568-8035-41a4-b9c1-ea398367c18b",
   "metadata": {},
   "outputs": [
    {
     "data": {
      "text/plain": [
       "False"
      ]
     },
     "execution_count": 13,
     "metadata": {},
     "output_type": "execute_result"
    }
   ],
   "source": [
    "structured_result.inspection"
   ]
  }
 ],
 "metadata": {
  "kernelspec": {
   "display_name": "Python 3 (ipykernel)",
   "language": "python",
   "name": "python3"
  },
  "language_info": {
   "codemirror_mode": {
    "name": "ipython",
    "version": 3
   },
   "file_extension": ".py",
   "mimetype": "text/x-python",
   "name": "python",
   "nbconvert_exporter": "python",
   "pygments_lexer": "ipython3",
   "version": "3.11.7"
  }
 },
 "nbformat": 4,
 "nbformat_minor": 5
}
